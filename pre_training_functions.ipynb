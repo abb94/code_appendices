{
 "cells": [
  {
   "cell_type": "markdown",
   "id": "b8627c29-e4ee-4c55-a9e3-0bceb19fb8a5",
   "metadata": {},
   "source": [
    "# Codes used for training process of Neural Networks: "
   ]
  },
  {
   "cell_type": "markdown",
   "id": "4054c035-f055-472c-b97d-c38adf9f99de",
   "metadata": {},
   "source": [
    "## Libraries used for codes before training session: "
   ]
  },
  {
   "cell_type": "code",
   "execution_count": 1,
   "id": "9a47e98f-eb35-4d3f-af0b-bd66c5039909",
   "metadata": {},
   "outputs": [],
   "source": [
    "import torch\n",
    "import torch.nn as nn\n",
    "import torch.optim as optim\n",
    "import torchvision\n",
    "from torchvision.transforms import AutoAugment, ColorJitter, Compose"
   ]
  },
  {
   "cell_type": "markdown",
   "id": "5aabbf6a-41e3-4bb2-b933-dec794f3a069",
   "metadata": {},
   "source": [
    "### Calculating mean and standard deviation from training data to normalize training and validation data"
   ]
  },
  {
   "cell_type": "code",
   "execution_count": 2,
   "id": "8a151822-4638-47fb-9839-0634330137ad",
   "metadata": {},
   "outputs": [],
   "source": [
    "import os\n",
    "from PIL import Image\n",
    "import torch\n",
    "from torch.utils.data import Dataset, DataLoader\n",
    "from torchvision import transforms\n",
    "\n",
    "class CustomDataset_train(Dataset):\n",
    "    def __init__(self, root_dir, transform=None):\n",
    "        self.classes = sorted(os.listdir(root_dir))  # get a list of subdirectory names\n",
    "        self.class_to_idx = {cls_name: i for i, cls_name in enumerate(self.classes)}  # map class names to indices\n",
    "        self.samples = []\n",
    "        for target_class in self.classes:\n",
    "            class_dir = os.path.join(root_dir, target_class)\n",
    "            if not os.path.isdir(class_dir):\n",
    "                continue\n",
    "            for root, _, fnames in sorted(os.walk(class_dir)):\n",
    "                for fname in sorted(fnames):\n",
    "                    if fname.endswith('.jpg') or fname.endswith('.png'):\n",
    "                        path = os.path.join(root, fname)\n",
    "                        item = (path, self.class_to_idx[target_class])\n",
    "                        self.samples.append(item)\n",
    "        self.transform = transforms.Compose([\n",
    "            transforms.Resize((224, 224)),  # resize the image\n",
    "            transforms.ToTensor(),  # convert PIL image to a PyTorch tensor\n",
    "            \n",
    "            \n",
    "       #])\n",
    "            \n",
    "            \n",
    "            #ResNet with Landmarks\n",
    "            transforms.Normalize(mean=[0.4514, 0.3094, 0.2865], \n",
    "                          std=[0.1353, 0.1066, 0.0966]),])\n",
    "            \n",
    "            #ResNet without Landmarks\n",
    "       #     transforms.Normalize(mean=[0.4429, 0.3043, 0.2806], \n",
    "       #                   std=[0.1187, 0.0874, 0.0728]),])\n",
    "        \n",
    "        if transform is not None:\n",
    "            self.transform = transforms.Compose([self.transform, transform])\n",
    "    \n",
    "    def __getitem__(self, index):\n",
    "        path, target = self.samples[index]\n",
    "        with open(path, 'rb') as f:\n",
    "            sample = Image.open(f).convert('RGB')\n",
    "        sample = self.transform(sample)\n",
    "        return sample, target\n",
    "    \n",
    "    def __len__(self):\n",
    "        return len(self.samples)\n"
   ]
  },
  {
   "cell_type": "code",
   "execution_count": 3,
   "id": "3291e96f-4a3f-4cb1-bf83-32533d81978a",
   "metadata": {},
   "outputs": [],
   "source": [
    "train_dataset = CustomDataset_train(root_dir='C:/Users/Bruss/Desktop/Speciale/data/used_data_5/training_data')"
   ]
  },
  {
   "cell_type": "code",
   "execution_count": 4,
   "id": "19839cc2-33e4-4630-a904-58111a79c5b8",
   "metadata": {},
   "outputs": [],
   "source": [
    "train_loader = DataLoader(train_dataset)"
   ]
  },
  {
   "cell_type": "code",
   "execution_count": 5,
   "id": "a7aa6ead-a934-4719-a131-7b83bff070e1",
   "metadata": {},
   "outputs": [],
   "source": [
    "# Use a loop to calculate the mean and standard deviation of your training data\n",
    "def calculate_mean_std(train_loader): \n",
    "    mean = 0.\n",
    "    std = 0.\n",
    "    for images, _ in train_loader:\n",
    "        batch_samples = images.size(0)\n",
    "        images = images.view(batch_samples, images.size(1), -1)\n",
    "        mean += images.mean(2).sum(0)\n",
    "        std += images.std(2).sum(0)\n",
    "\n",
    "    # Calculate the mean and standard deviation of your training data\n",
    "    mean /= len(train_loader.dataset)\n",
    "    std /= len(train_loader.dataset)\n",
    "    print(f'Mean: {mean}')\n",
    "    print(f'Standard deviation: {std}')\n",
    "    return mean, std"
   ]
  },
  {
   "cell_type": "code",
   "execution_count": 6,
   "id": "90f6543a-2def-4edd-9a6c-9b3e75cb0214",
   "metadata": {},
   "outputs": [
    {
     "name": "stdout",
     "output_type": "stream",
     "text": [
      "Mean: tensor([-0.0627, -0.0475, -0.0609])\n",
      "Standard deviation: tensor([0.8772, 0.8196, 0.7533])\n"
     ]
    }
   ],
   "source": [
    "calculate_mean_std(train_loader)"
   ]
  },
  {
   "cell_type": "markdown",
   "id": "3e6c02f7-e286-47a7-94a9-7b73725abdd4",
   "metadata": {},
   "source": [
    "### Output of calculate_mean_std on train_loader is passed to train dataset and valid dataset. "
   ]
  },
  {
   "cell_type": "code",
   "execution_count": null,
   "id": "2381fb78-9dcc-45eb-af70-8f3578f1af67",
   "metadata": {},
   "outputs": [],
   "source": [
    "import os\n",
    "from PIL import Image\n",
    "import torch\n",
    "from torch.utils.data import Dataset, DataLoader\n",
    "from torchvision import transforms\n",
    "\n",
    "class CustomDataset_train(Dataset):\n",
    "    def __init__(self, root_dir, transform=None):\n",
    "        self.classes = sorted(os.listdir(root_dir))  # get a list of subdirectory names\n",
    "        self.class_to_idx = {cls_name: i for i, cls_name in enumerate(self.classes)}  # map class names to indices\n",
    "        self.samples = []\n",
    "        for target_class in self.classes:\n",
    "            class_dir = os.path.join(root_dir, target_class)\n",
    "            if not os.path.isdir(class_dir):\n",
    "                continue\n",
    "            for root, _, fnames in sorted(os.walk(class_dir)):\n",
    "                for fname in sorted(fnames):\n",
    "                    if fname.endswith('.jpg') or fname.endswith('.png'):\n",
    "                        path = os.path.join(root, fname)\n",
    "                        item = (path, self.class_to_idx[target_class])\n",
    "                        self.samples.append(item)\n",
    "        self.transform = transforms.Compose([\n",
    "            transforms.Resize((224, 224)),  # Resize of image\n",
    "            transforms.ToTensor(),  # Tensor converter\n",
    "            \n",
    "\n",
    "        \n",
    "            #mean and std for landmarked data\n",
    "            transforms.Normalize(mean=[0.4514, 0.3094, 0.2865], \n",
    "                           std=[0.1353, 0.1066, 0.0966]),])\n",
    "            #mean and std for non-landmarked data\n",
    "        #    transforms.Normalize(mean=[0.4429, 0.3043, 0.2806], \n",
    "        #                  std=[0.1187, 0.0874, 0.0728]),])\n",
    "        \n",
    "        if transform is not None:\n",
    "            self.transform = transforms.Compose([self.transform, transform])\n",
    "    \n",
    "    def __getitem__(self, index):\n",
    "        path, target = self.samples[index]\n",
    "        with open(path, 'rb') as f:\n",
    "            sample = Image.open(f).convert('RGB')\n",
    "        sample = self.transform(sample)\n",
    "        return sample, target\n",
    "    \n",
    "    def __len__(self):\n",
    "        return len(self.samples)\n"
   ]
  },
  {
   "cell_type": "code",
   "execution_count": null,
   "id": "01c96133-6f4f-44ad-be03-2d05b77aacbf",
   "metadata": {},
   "outputs": [],
   "source": [
    "import os\n",
    "from PIL import Image\n",
    "import torch\n",
    "from torch.utils.data import Dataset, DataLoader\n",
    "from torchvision import transforms\n",
    "\n",
    "class CustomDataset_valid(Dataset):\n",
    "    def __init__(self, root_dir, transform=None):\n",
    "        self.classes = sorted(os.listdir(root_dir))  # get a list of subdirectory names\n",
    "        self.class_to_idx = {cls_name: i for i, cls_name in enumerate(self.classes)}  # map class names to indices\n",
    "        self.samples = []\n",
    "        for target_class in self.classes:\n",
    "            class_dir = os.path.join(root_dir, target_class)\n",
    "            if not os.path.isdir(class_dir):\n",
    "                continue\n",
    "            for root, _, fnames in sorted(os.walk(class_dir)):\n",
    "                for fname in sorted(fnames):\n",
    "                    if fname.endswith('.jpg') or fname.endswith('.png'):\n",
    "                        path = os.path.join(root, fname)\n",
    "                        item = (path, self.class_to_idx[target_class])\n",
    "                        self.samples.append(item)\n",
    "        self.transform = transforms.Compose([\n",
    "            transforms.Resize((224, 224)),  # resize the image\n",
    "            transforms.ToTensor(),  # convert PIL image to a PyTorch tensor\n",
    "            transforms.Normalize(mean=[0.4514, 0.3094, 0.2865], \n",
    "                          std=[0.1353, 0.1066, 0.0966]),])\n",
    "        \n",
    "        if transform is not None:\n",
    "            self.transform = transforms.Compose([self.transform, transform])\n",
    "    \n",
    "    def __getitem__(self, index):\n",
    "        path, target = self.samples[index]\n",
    "        with open(path, 'rb') as f:\n",
    "            sample = Image.open(f).convert('RGB')\n",
    "        sample = self.transform(sample)\n",
    "        return sample, target\n",
    "    \n",
    "    def __len__(self):\n",
    "        return len(self.samples)\n"
   ]
  },
  {
   "cell_type": "code",
   "execution_count": null,
   "id": "e49a0217-e957-4fa3-bc4f-10c7069f8c2f",
   "metadata": {},
   "outputs": [],
   "source": [
    "train_dataset = CustomDataset_train(root_dir='C:/Users/Bruss/Desktop/Speciale/data/used_data_landmarks/training_data')\n",
    "validation_data = CustomDataset_valid(root_dir='C:/Users/Bruss/Desktop/Speciale/data/used_data_landmarks/testing_data')"
   ]
  },
  {
   "cell_type": "code",
   "execution_count": null,
   "id": "d792eeb2-78f5-442c-b95a-31657df58ef8",
   "metadata": {},
   "outputs": [],
   "source": [
    "train_loader = DataLoader(train_dataset, batch_size=26, shuffle=True)\n",
    "\n",
    "val_loader = DataLoader(validation_data, batch_size=26, shuffle = False)"
   ]
  },
  {
   "cell_type": "markdown",
   "id": "ffaf9716-0691-4844-8fc3-52bc81619c1a",
   "metadata": {},
   "source": []
  }
 ],
 "metadata": {
  "kernelspec": {
   "display_name": "Python 3 (ipykernel)",
   "language": "python",
   "name": "python3"
  },
  "language_info": {
   "codemirror_mode": {
    "name": "ipython",
    "version": 3
   },
   "file_extension": ".py",
   "mimetype": "text/x-python",
   "name": "python",
   "nbconvert_exporter": "python",
   "pygments_lexer": "ipython3",
   "version": "3.10.11"
  }
 },
 "nbformat": 4,
 "nbformat_minor": 5
}
