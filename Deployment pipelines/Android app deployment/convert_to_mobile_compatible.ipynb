{
 "cells": [
  {
   "cell_type": "markdown",
   "id": "9fb991ef-1144-4c74-8fa6-4fccba99af87",
   "metadata": {},
   "source": [
    "### Converting Model to mobile-compatible state"
   ]
  },
  {
   "cell_type": "code",
   "execution_count": 1,
   "id": "3ce76da2-3d04-48be-9cbe-820581ec7cf9",
   "metadata": {},
   "outputs": [],
   "source": [
    "import torch\n",
    "import torchvision\n",
    "from torch.utils.mobile_optimizer import optimize_for_mobile"
   ]
  },
  {
   "cell_type": "code",
   "execution_count": 2,
   "id": "cbd98a74-527e-4fdb-bf30-679b86b39af8",
   "metadata": {},
   "outputs": [],
   "source": [
    "class EfficientNet_model(nn.Module):\n",
    "    def __init__(self, num_classes, hidden_size=256, num_layers=2, dropout=0.25):\n",
    "        super().__init__()\n",
    "        # Load pre-trained model\n",
    "        self.efficientnet = EfficientNet.from_pretrained('efficientnet-b0')\n",
    "        # Freeze parameters of the pre-trained model\n",
    "        for param in self.efficientnet.parameters():\n",
    "            param.requires_grad = False\n",
    "        # Temporal feature extraction through BI-LSTM\n",
    "        self.lstm = nn.LSTM(input_size=1280, hidden_size=hidden_size, num_layers=num_layers, batch_first=True, dropout=dropout, bidirectional=True)\n",
    "        self.relu = nn.ReLU()\n",
    "        # Dropout to prevent overfitting\n",
    "        self.dropout1 = nn.Dropout(dropout)\n",
    "        # Fully connected layer\n",
    "        self.fc1 = nn.Linear(hidden_size * 2, 256)\n",
    "        # Dropout to prevent overfitting\n",
    "        self.dropout2 = nn.Dropout(dropout)\n",
    "        self.relu2 = nn.Relu()\n",
    "        # Last fully connected layer with number of classes as units to make predictions\n",
    "        self.fc2 = nn.Linear(256, num_classes)\n",
    "        self.softmax = nn.Softmax(dim=1)\n",
    "        \n",
    "    def forward(self, x):\n",
    "        x = self.efficientnet.extract_features(x)\n",
    "        # Flatten the feature maps and add a batch dimension\n",
    "        x = x.flatten(start_dim=2).permute(0, 2, 1)\n",
    "        # Pass the flattened feature maps through the bidirectional LSTM layer\n",
    "        x, _ = self.lstm(x)\n",
    "        x = self.relu(x)\n",
    "        # Concatenate the outputs of the forward and backward directions and pass through the fully connected layers with dropout\n",
    "        x = self.dropout1(torch.cat((x[:, -1, :self.lstm.hidden_size], x[:, 0, self.lstm.hidden_size:]), dim=1))\n",
    "        x = self.fc1(x)\n",
    "        x = self.dropout2(x)\n",
    "        x = self.relu2(x)\n",
    "        x = self.fc2(x)\n",
    "        x = self.softmax(x)\n",
    "        return x\n"
   ]
  },
  {
   "cell_type": "code",
   "execution_count": 3,
   "id": "4065bf1d-93f6-4b80-9264-083cc91d91ea",
   "metadata": {},
   "outputs": [
    {
     "name": "stdout",
     "output_type": "stream",
     "text": [
      " \n"
     ]
    }
   ],
   "source": [
    "model = torch.load('C:/Users/Bruss/Desktop/Speciale/models/deployments/finalmodel_efficientnet_nolandmarks.pt')\n",
    "model.eval()\n",
    "model.efficientnet.set_swish(False)\n",
    "device = torch.device('cpu')\n",
    "model.to(device)\n",
    "print(' ')"
   ]
  },
  {
   "cell_type": "code",
   "execution_count": 6,
   "id": "c829c732-0339-41e0-a804-aa771bf1152b",
   "metadata": {},
   "outputs": [],
   "source": [
    "scripted_module = torch.jit.trace(model, torch.rand(1,3,224,224))"
   ]
  },
  {
   "cell_type": "code",
   "execution_count": 7,
   "id": "c7f89738-de77-4c8f-9bc4-135d48919064",
   "metadata": {},
   "outputs": [],
   "source": [
    "#scripted_module = torch.jit.script(model)\n",
    "scripted_module.save(\"effecientnet_scripted.pt\")"
   ]
  },
  {
   "cell_type": "code",
   "execution_count": 8,
   "id": "a0f450fd-e18b-42eb-848a-be5dcdffe51b",
   "metadata": {},
   "outputs": [],
   "source": [
    "traced_script_optimized = optimize_for_mobile(scripted_module)"
   ]
  },
  {
   "cell_type": "code",
   "execution_count": null,
   "id": "33389992-746a-41d2-9b55-345f038685e4",
   "metadata": {},
   "outputs": [],
   "source": []
  }
 ],
 "metadata": {
  "kernelspec": {
   "display_name": "Python 3 (ipykernel)",
   "language": "python",
   "name": "python3"
  },
  "language_info": {
   "codemirror_mode": {
    "name": "ipython",
    "version": 3
   },
   "file_extension": ".py",
   "mimetype": "text/x-python",
   "name": "python",
   "nbconvert_exporter": "python",
   "pygments_lexer": "ipython3",
   "version": "3.10.11"
  }
 },
 "nbformat": 4,
 "nbformat_minor": 5
}
