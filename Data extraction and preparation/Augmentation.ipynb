{
 "cells": [
  {
   "attachments": {},
   "cell_type": "markdown",
   "id": "945a11f1-b493-4124-91e1-3efd92ef00ef",
   "metadata": {},
   "source": [
    "### Augmentation of training data"
   ]
  },
  {
   "cell_type": "code",
   "execution_count": null,
   "id": "943500d9-6592-4ecb-9fcb-ff7bccfd023a",
   "metadata": {},
   "outputs": [],
   "source": [
    "#word: str = 'boss'\n",
    "words = ['afraid', 'alone', 'boss', 'hello', 'tough']"
   ]
  },
  {
   "cell_type": "code",
   "execution_count": null,
   "id": "34a694c8-a574-404f-817e-0786af67fe6e",
   "metadata": {
    "tags": []
   },
   "outputs": [],
   "source": [
    "import os\n",
    "import random\n",
    "import numpy as np\n",
    "import torchvision.transforms as transforms\n",
    "import torchvision.transforms.functional as TF\n",
    "from PIL import Image\n",
    "from torchvision import datasets\n",
    "\n",
    "for word in words: \n",
    "    # Where I want to take frames from\n",
    "    input_dir = f'C:/Users/Bruss/Desktop/Speciale/data/used_data/training_data/{word}'\n",
    "\n",
    "    # Location I want to store the augmented data\n",
    "    output_dir = f'C:/Users/Bruss/Desktop/Speciale/data/augmented_data/training_data/{word}'\n",
    "    num_sequences = 182 // 26  \n",
    "\n",
    "    # The ColorJitter transformations I want to apply. \n",
    "    transformations = transforms.Compose([\n",
    "        transforms.ColorJitter(brightness=0.4, contrast=0.4, saturation=0.4, hue=0.1),\n",
    "    ])\n",
    "\n",
    "    # The sequences of frames I want to augment, one sequence forms one word. \n",
    "    for i in range(num_sequences):\n",
    "        # get the starting and ending indices of the current sequence\n",
    "        start_index = i * 26\n",
    "        end_index = start_index + 26\n",
    "\n",
    "        # Name for files when stored\n",
    "        file_names = sorted(os.listdir(input_dir))[start_index:end_index]\n",
    "\n",
    "        # load and augment frames\n",
    "        augmented_images = []\n",
    "        for file_name in file_names:\n",
    "            image_path = os.path.join(input_dir, file_name)\n",
    "            with Image.open(image_path) as image:\n",
    "                image = transformations(image)\n",
    "                augmented_images.append(image)\n",
    "\n",
    "        # save augmented frames\n",
    "        output_subdir = os.path.join(output_dir, f'sequence_{i:03d}_color_jitter')\n",
    "        os.makedirs(output_subdir, exist_ok=True)\n",
    "        for j, image in enumerate(augmented_images):\n",
    "            output_file_name = f'image_{j+1:02d}.jpg'\n",
    "            output_file_path = os.path.join(output_subdir, output_file_name)\n",
    "            with open(output_file_path, 'wb') as f:\n",
    "                image.save(f)\n"
   ]
  },
  {
   "cell_type": "code",
   "execution_count": null,
   "id": "95648c82-7167-4b24-8165-a7c6c1a1edf8",
   "metadata": {
    "tags": []
   },
   "outputs": [],
   "source": [
    "import os\n",
    "import random\n",
    "import numpy as np\n",
    "import torchvision.transforms as transforms\n",
    "import torchvision.transforms.functional as TF\n",
    "from PIL import Image\n",
    "from torchvision import datasets\n",
    "for word in words: \n",
    "    input_dir = f'C:/Users/Bruss/Desktop/Speciale/data/used_data/training_data/{word}'\n",
    "\n",
    "\n",
    "    output_dir = f'C:/Users/Bruss/Desktop/Speciale/data/augmented_data/training_data/{word}'\n",
    "    num_sequences = 182 // 26 \n",
    "\n",
    "    # For random rotation\n",
    "    transformations = transforms.Compose([\n",
    "            transforms.RandomRotation(degrees=(-90, 90)),\n",
    "        ])\n",
    "\n",
    "    for i in range(num_sequences):\n",
    "        start_index = i * 26\n",
    "        end_index = start_index + 26\n",
    "\n",
    "        file_names = sorted(os.listdir(input_dir))[start_index:end_index]\n",
    "\n",
    "        augmented_images = []\n",
    "        for file_name in file_names:\n",
    "            image_path = os.path.join(input_dir, file_name)\n",
    "            with Image.open(image_path) as image:\n",
    "                image = transformations(image)\n",
    "                augmented_images.append(image)\n",
    "\n",
    "        output_subdir = os.path.join(output_dir, f'sequence_{i:03d}_rotation')\n",
    "        os.makedirs(output_subdir, exist_ok=True)\n",
    "        for j, image in enumerate(augmented_images):\n",
    "            output_file_name = f'image_{j+1:02d}.jpg'\n",
    "            output_file_path = os.path.join(output_subdir, output_file_name)\n",
    "            with open(output_file_path, 'wb') as f:\n",
    "                image.save(f)\n"
   ]
  },
  {
   "cell_type": "code",
   "execution_count": null,
   "id": "7e1791f2-cf9e-4b2a-b117-bd250fa55984",
   "metadata": {
    "tags": []
   },
   "outputs": [],
   "source": [
    "# Move frames from one folder to another\n",
    "import os\n",
    "import shutil\n",
    "for word in words: \n",
    "    input_dir = f\"C:/Users/Bruss/Desktop/Speciale/data/augmented_data/training_data/{word}/\"\n",
    "    output_dir = f\"C:/Users/Bruss/Desktop/Speciale/data/used_data/training_data/{word}/\"\n",
    "\n",
    "    for sequence in os.listdir(input_dir):\n",
    "        if not sequence.startswith('sequence'):\n",
    "            continue\n",
    "        seq_path = os.path.join(input_dir, sequence)\n",
    "        for i, filename in enumerate(os.listdir(seq_path)):\n",
    "            src_path = os.path.join(seq_path, filename)\n",
    "            dst_name = f\"{sequence}_{i:03d}.png\"\n",
    "            dst_path = os.path.join(output_dir, dst_name)\n",
    "            shutil.move(src_path, dst_path)\n",
    "        print(f\"Moved and renamed {i+1} images from {sequence} to {output_dir}\")\n"
   ]
  }
 ],
 "metadata": {
  "kernelspec": {
   "display_name": "Python 3 (ipykernel)",
   "language": "python",
   "name": "python3"
  },
  "language_info": {
   "codemirror_mode": {
    "name": "ipython",
    "version": 3
   },
   "file_extension": ".py",
   "mimetype": "text/x-python",
   "name": "python",
   "nbconvert_exporter": "python",
   "pygments_lexer": "ipython3",
   "version": "3.10.11"
  }
 },
 "nbformat": 4,
 "nbformat_minor": 5
}
