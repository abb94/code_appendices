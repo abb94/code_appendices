{
 "cells": [
  {
   "cell_type": "markdown",
   "id": "9033a02e-6f06-4f83-b380-044723cc92aa",
   "metadata": {},
   "source": [
    "## Using MediaPipe to evaluate landmarks of face and hands on each datasample"
   ]
  },
  {
   "cell_type": "code",
   "execution_count": null,
   "id": "0b05ac16-aca1-4d95-8b3d-24916b028dbf",
   "metadata": {},
   "outputs": [],
   "source": [
    "import os\n",
    "import cv2\n",
    "import mediapipe as mp\n",
    "words = ['afraid',  'alone', 'boss',  'hello', 'tough']\n",
    "\n",
    "for word in words: \n",
    "    input_dir = f'C:/Users/Bruss/Desktop/Speciale/data/used_data/training_data/{word}'\n",
    "    output_dir = f'C:/Users/Bruss/Desktop/Speciale/data/used_data_landmarks/training_data/{word}'\n",
    "\n",
    "    # Create folder for storing landmarked and mapped data\n",
    "    if not os.path.exists(output_dir):\n",
    "        os.makedirs(output_dir)\n",
    "\n",
    "    # Defining MediaPipe landmarks\n",
    "    mp_hands = mp.solutions.hands\n",
    "    mp_face_detection = mp.solutions.face_detection\n",
    "\n",
    "    # Create the landmarks \n",
    "    hands = mp_hands.Hands()\n",
    "    face_detection = mp_face_detection.FaceDetection()\n",
    "\n",
    "    # Loop through each file where frames are stored\n",
    "    for filename in os.listdir(input_dir):\n",
    "        img = cv2.imread(os.path.join(input_dir, filename))\n",
    "        img_rgb = cv2.cvtColor(img, cv2.COLOR_BGR2RGB)\n",
    "\n",
    "        # Detect hands\n",
    "        hands_results = hands.process(img_rgb)\n",
    "\n",
    "        # Detect faces\n",
    "        face_detection_results = face_detection.process(img_rgb)\n",
    "\n",
    "        # Draw landmarks for hands\n",
    "        if hands_results.multi_hand_landmarks:\n",
    "            for hand_landmarks in hands_results.multi_hand_landmarks:\n",
    "                mp.solutions.drawing_utils.draw_landmarks(\n",
    "                    img,\n",
    "                    hand_landmarks,\n",
    "                    mp_hands.HAND_CONNECTIONS)\n",
    "\n",
    "        # Draw landmarks and map for faces\n",
    "        if face_detection_results.detections:\n",
    "            for detection in face_detection_results.detections:\n",
    "                mp.solutions.drawing_utils.draw_detection(\n",
    "                    img,\n",
    "                    detection)\n",
    "\n",
    "        # Store landmarked and mapped frame\n",
    "        cv2.imwrite(os.path.join(output_dir, filename), img)\n"
   ]
  },
  {
   "cell_type": "code",
   "execution_count": null,
   "id": "7a083313-5aa7-4695-af2d-eb2d8e3c0be9",
   "metadata": {},
   "outputs": [],
   "source": []
  }
 ],
 "metadata": {
  "kernelspec": {
   "display_name": "Python 3 (ipykernel)",
   "language": "python",
   "name": "python3"
  },
  "language_info": {
   "codemirror_mode": {
    "name": "ipython",
    "version": 3
   },
   "file_extension": ".py",
   "mimetype": "text/x-python",
   "name": "python",
   "nbconvert_exporter": "python",
   "pygments_lexer": "ipython3",
   "version": "3.10.11"
  }
 },
 "nbformat": 4,
 "nbformat_minor": 5
}
