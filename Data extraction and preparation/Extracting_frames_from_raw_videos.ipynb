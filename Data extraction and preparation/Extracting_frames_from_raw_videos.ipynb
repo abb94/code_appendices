{
 "cells": [
  {
   "cell_type": "markdown",
   "id": "cbb27737-7098-41c1-a563-8c321ce99812",
   "metadata": {},
   "source": [
    "# OPENCV CODE"
   ]
  },
  {
   "cell_type": "code",
   "execution_count": 30,
   "id": "bdcb407e-1740-4226-9292-0a0de27eeb1f",
   "metadata": {},
   "outputs": [],
   "source": [
    "import cv2\n",
    "import os"
   ]
  },
  {
   "cell_type": "code",
   "execution_count": 31,
   "id": "c6be34ca-9a6e-41e3-9164-95c86b0d84b4",
   "metadata": {
    "tags": []
   },
   "outputs": [],
   "source": [
    "raw_data_name: str = 'Liz_3933'\n",
    "word: str = 'alone'"
   ]
  },
  {
   "cell_type": "code",
   "execution_count": 32,
   "id": "b4198784-bce5-4d57-ba4b-1fd0f5b95274",
   "metadata": {},
   "outputs": [],
   "source": [
    "cap = cv2.VideoCapture(f'C:/Users/Bruss/Desktop/Speciale/data/raw_data/{word}/{raw_data_name}.mov')\n",
    "path = f\"C:/Users/Bruss/Desktop/Speciale/data/data_for_pic\""
   ]
  },
  {
   "cell_type": "code",
   "execution_count": 33,
   "id": "adf6669f-80bb-4773-8492-3f386424242a",
   "metadata": {},
   "outputs": [],
   "source": [
    "#Liz width_from, width_to = 70, 260\n",
    "#Tyler width_from, width_to = 40, 280\n",
    "#Naomi width_from, width_to = 20, 240\n",
    "#Lana width_from, width_to = 50, 223"
   ]
  },
  {
   "cell_type": "code",
   "execution_count": 34,
   "id": "ed5dc6ba-51d7-42ba-a4d5-ee394ef594d4",
   "metadata": {},
   "outputs": [],
   "source": [
    "width_from, width_to = 30, 185\n",
    "height_from, height_to = 17, 310\n",
    "crop_width, crop_height = 400, 400"
   ]
  },
  {
   "cell_type": "markdown",
   "id": "3cbc17e6-8d5e-4095-9dd0-760819fdc699",
   "metadata": {
    "tags": []
   },
   "source": [
    "### Test Crop size"
   ]
  },
  {
   "cell_type": "code",
   "execution_count": 35,
   "id": "5eee9673-194b-4b6f-a6ad-e09dfaf42267",
   "metadata": {},
   "outputs": [],
   "source": [
    "frame_no = 1"
   ]
  },
  {
   "cell_type": "code",
   "execution_count": 36,
   "id": "975c2b1c-1082-410d-9d90-fea1b1dcef30",
   "metadata": {
    "tags": []
   },
   "outputs": [],
   "source": [
    "# Open raw video with openCV\n",
    "if not cap.isOpened():\n",
    "    print(\"Error: Could not open video file\")\n",
    "    exit()\n",
    "\n",
    "# play video\n",
    "while True:\n",
    "    ret, frame = cap.read()\n",
    "    if not ret:\n",
    "        break\n",
    "\n",
    "    # Crop the frame to fit entire front view of raw video\n",
    "    cropped_frame = frame[height_from:height_to, width_from:width_to]\n",
    "\n",
    "    # Resize frame\n",
    "    resized_frame = cv2.resize(cropped_frame, (crop_width, crop_height))\n",
    "\n",
    "    # Display the resized frame\n",
    "    cv2.imshow(\"Resized Frame\", frame)\n",
    "    cv2.imwrite(os.path.join(path , str(frame_no) + '.jpg'), frame)\n",
    "    frame_no += 1\n",
    "    # Wait for a key press\n",
    "    if cv2.waitKey(25) & 0xFF == ord(\"q\"):\n",
    "        break\n",
    "\n",
    "# Close video\n",
    "cap.release()\n",
    "cv2.destroyAllWindows()"
   ]
  },
  {
   "cell_type": "markdown",
   "id": "a1653f94-2157-4ca0-9544-24ef44bb67e3",
   "metadata": {},
   "source": [
    "### Extract images"
   ]
  },
  {
   "cell_type": "code",
   "execution_count": null,
   "id": "5bbab0b7-2143-4ab9-a81b-ef4ef41b4a1a",
   "metadata": {},
   "outputs": [],
   "source": [
    "path = f\"C:/Users/Bruss/Desktop/Speciale/test/ef_net_no\"\n",
    "#path, no_path = f\"C:/Users/Bruss/Desktop/Speciale/data/processed_data/training_data/{word}\", f\"C:/Users/Bruss/Desktop/Speciale/data/processed_data/training_data/nothing\"\n",
    "#path, no_path = f\"C:/Users/Bruss/Desktop/Speciale/data/processed_data/validation_data/{word}\", f\"C:/Users/Bruss/Desktop/Speciale/data/processed_data/validation_data/nothing\"\n",
    "#path, no_path = f\"C:/Users/Bruss/Desktop/Speciale/data/processed_data/testing_data/{word}\", f\"C:/Users/Bruss/Desktop/Speciale/data/processed_data/testing_data/nothing\"\n",
    "\n",
    "\n"
   ]
  },
  {
   "cell_type": "code",
   "execution_count": null,
   "id": "2c62b335-f3e2-4642-b31f-0f62bd36d092",
   "metadata": {},
   "outputs": [],
   "source": [
    "frame_no = 1\n",
    "start_of_word, end_of_word = 978, 997\n",
    "frames_saved = 1\n",
    "frames_nothing = 1"
   ]
  },
  {
   "cell_type": "code",
   "execution_count": null,
   "id": "f29d1c8b-b52b-4f66-8ad4-92377ecdd8a8",
   "metadata": {},
   "outputs": [],
   "source": [
    "import cv2\n",
    "\n",
    "# Open video\n",
    "if not cap.isOpened():\n",
    "    print(\"Error: Could not open video file\")\n",
    "    exit()\n",
    "\n",
    "\n",
    "while True:\n",
    "    ret, frame = cap.read()\n",
    "    \n",
    "    if not ret:\n",
    "        break\n",
    "\n",
    "    cropped_frame = frame[height_from:height_to, width_from:width_to]\n",
    "\n",
    "    resized_frame = cv2.resize(cropped_frame, (crop_width, crop_height))\n",
    "\n",
    "    cv2.imshow(\"Resized Frame\", resized_frame)\n",
    "    # Start saving frames in specified interval, where the frames display the word. \n",
    "    if (start_of_word <= frame_no <= end_of_word):\n",
    "        if frames_saved <= 26: \n",
    "            cv2.imwrite(os.path.join(path ,f\"{raw_data_name}_{word}_\" + str(frame_no) + '.jpg'), resized_frame)\n",
    "            frames_saved += 1\n",
    "        else:\n",
    "            pass\n",
    "        \n",
    "\n",
    "    elif frames_nothing <= 26: \n",
    "        cv2.imwrite(os.path.join(\"ef_net_no\" + str(frame_no) + '.jpg'), resized_frame)\n",
    "        frames_nothing += 1\n",
    "    else: \n",
    "        pass\n",
    "    frame_no += 1\n",
    "    # Close recording by pressing \"q\"\n",
    "    if cv2.waitKey(25) & 0xFF == ord(\"q\"):\n",
    "        break\n",
    "\n",
    "cap.release()\n",
    "cv2.destroyAllWindows()\n",
    "if frames_saved < 26: \n",
    "    missing_pic = 26 - frames_saved+1\n",
    "    for i in range(missing_pic):\n",
    "        cv2.imwrite(os.path.join(path ,f\"{raw_data_name}_added_{word}{i}\" + str(frame_no) + '.jpg'), resized_frame)\n",
    "\n",
    "\n"
   ]
  }
 ],
 "metadata": {
  "kernelspec": {
   "display_name": "Python 3 (ipykernel)",
   "language": "python",
   "name": "python3"
  },
  "language_info": {
   "codemirror_mode": {
    "name": "ipython",
    "version": 3
   },
   "file_extension": ".py",
   "mimetype": "text/x-python",
   "name": "python",
   "nbconvert_exporter": "python",
   "pygments_lexer": "ipython3",
   "version": "3.10.11"
  }
 },
 "nbformat": 4,
 "nbformat_minor": 5
}
